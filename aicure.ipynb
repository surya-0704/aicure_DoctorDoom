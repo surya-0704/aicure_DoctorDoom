{
 "cells": [
  {
   "cell_type": "code",
   "execution_count": 2,
   "metadata": {},
   "outputs": [],
   "source": [
    "import pandas as pd\n",
    "import matplotlib.pyplot as plt\n",
    "from sklearn.model_selection import train_test_split\n",
    "from sklearn.ensemble import RandomForestRegressor\n",
    "from sklearn.metrics import mean_squared_error, r2_score\n",
    "from sklearn.preprocessing import StandardScaler, OneHotEncoder\n",
    "from sklearn.compose import ColumnTransformer\n",
    "from sklearn.pipeline import make_pipeline\n",
    "import numpy as np"
   ]
  },
  {
   "cell_type": "markdown",
   "metadata": {},
   "source": [
    "Importing The data"
   ]
  },
  {
   "cell_type": "code",
   "execution_count": 3,
   "metadata": {},
   "outputs": [
    {
     "name": "stdout",
     "output_type": "stream",
     "text": [
      "<class 'pandas.core.frame.DataFrame'>\n",
      "RangeIndex: 5000 entries, 0 to 4999\n",
      "Data columns (total 37 columns):\n",
      " #   Column             Non-Null Count  Dtype  \n",
      "---  ------             --------------  -----  \n",
      " 0   uuid               5000 non-null   object \n",
      " 1   VLF                5000 non-null   float64\n",
      " 2   VLF_PCT            5000 non-null   float64\n",
      " 3   LF                 5000 non-null   float64\n",
      " 4   LF_PCT             5000 non-null   float64\n",
      " 5   LF_NU              5000 non-null   float64\n",
      " 6   HF                 5000 non-null   float64\n",
      " 7   HF_PCT             5000 non-null   float64\n",
      " 8   HF_NU              5000 non-null   float64\n",
      " 9   TP                 5000 non-null   float64\n",
      " 10  LF_HF              5000 non-null   float64\n",
      " 11  HF_LF              5000 non-null   float64\n",
      " 12  SD1                5000 non-null   float64\n",
      " 13  SD2                5000 non-null   float64\n",
      " 14  sampen             5000 non-null   float64\n",
      " 15  higuci             5000 non-null   float64\n",
      " 16  datasetId          5000 non-null   int64  \n",
      " 17  condition          5000 non-null   object \n",
      " 18  MEAN_RR            5000 non-null   float64\n",
      " 19  MEDIAN_RR          5000 non-null   float64\n",
      " 20  SDRR               5000 non-null   float64\n",
      " 21  RMSSD              5000 non-null   float64\n",
      " 22  SDSD               5000 non-null   float64\n",
      " 23  SDRR_RMSSD         5000 non-null   float64\n",
      " 24  HR                 5000 non-null   float64\n",
      " 25  pNN25              5000 non-null   float64\n",
      " 26  pNN50              5000 non-null   float64\n",
      " 27  KURT               5000 non-null   float64\n",
      " 28  SKEW               5000 non-null   float64\n",
      " 29  MEAN_REL_RR        5000 non-null   float64\n",
      " 30  MEDIAN_REL_RR      5000 non-null   float64\n",
      " 31  SDRR_REL_RR        5000 non-null   float64\n",
      " 32  RMSSD_REL_RR       5000 non-null   float64\n",
      " 33  SDSD_REL_RR        5000 non-null   float64\n",
      " 34  SDRR_RMSSD_REL_RR  5000 non-null   float64\n",
      " 35  KURT_REL_RR        5000 non-null   float64\n",
      " 36  SKEW_REL_RR        5000 non-null   float64\n",
      "dtypes: float64(34), int64(1), object(2)\n",
      "memory usage: 1.4+ MB\n"
     ]
    }
   ],
   "source": [
    "dfd=pd.read_csv(\"train_data.csv\")\n",
    "dfd.info()"
   ]
  },
  {
   "cell_type": "markdown",
   "metadata": {},
   "source": [
    "Checking for Irrelevant data"
   ]
  },
  {
   "cell_type": "code",
   "execution_count": 4,
   "metadata": {},
   "outputs": [
    {
     "name": "stdout",
     "output_type": "stream",
     "text": [
      "0       2\n",
      "1       2\n",
      "2       2\n",
      "3       2\n",
      "4       2\n",
      "       ..\n",
      "4995    2\n",
      "4996    2\n",
      "4997    2\n",
      "4998    2\n",
      "4999    2\n",
      "Name: datasetId, Length: 5000, dtype: int64\n",
      "0\n"
     ]
    }
   ],
   "source": [
    "print(dfd['datasetId'])\n",
    "cdatasetid=0\n",
    "for x in dfd['datasetId']:\n",
    "    if(x!=2):\n",
    "        cdatasetid+=1\n",
    "print(cdatasetid)"
   ]
  },
  {
   "cell_type": "code",
   "execution_count": 5,
   "metadata": {},
   "outputs": [],
   "source": [
    "colnames=[]\n",
    "for i in dfd:\n",
    "    colnames.append(i)"
   ]
  },
  {
   "cell_type": "code",
   "execution_count": 6,
   "metadata": {},
   "outputs": [],
   "source": [
    "def plothash(arr):\n",
    "    ls={}\n",
    "    for i in arr:\n",
    "        if(pd.isna(i)):\n",
    "            continue\n",
    "        if i not in ls:\n",
    "            ls[i]=1\n",
    "        else:\n",
    "            ls[i]+=1\n",
    "    return ls"
   ]
  },
  {
   "cell_type": "markdown",
   "metadata": {},
   "source": [
    "Using the plothash function above we plot nature of a specific feature to check the possibility of feature engineering"
   ]
  },
  {
   "cell_type": "code",
   "execution_count": 7,
   "metadata": {},
   "outputs": [
    {
     "data": {
      "text/plain": [
       "[<matplotlib.lines.Line2D at 0x21c015104d0>]"
      ]
     },
     "execution_count": 7,
     "metadata": {},
     "output_type": "execute_result"
    },
    {
     "data": {
      "image/png": "[encoded data removed]",
      "text/plain": [
       "<Figure size 640x480 with 1 Axes>"
      ]
     },
     "metadata": {},
     "output_type": "display_data"
    }
   ],
   "source": [
    "dicty=plothash(dfd['condition']) # Just enter the name of feature need to plot     OR      use colnames with index ranging 0-35\n",
    "result=dicty.items()\n",
    "data=list(result)\n",
    "xaxi=[]\n",
    "yaxi=[]\n",
    "# print(data)\n",
    "for i in data:\n",
    "    xaxi.append(i[0])\n",
    "    yaxi.append(i[1])\n",
    "plt.plot(xaxi,yaxi)\n",
    "\n",
    "# Since in this data set all the data of a particular feature are mostly unique the the hashplot is rather not very useful this comes in handy for binary encoding of the dataset when the data type is rather different"
   ]
  },
  {
   "cell_type": "code",
   "execution_count": 8,
   "metadata": {},
   "outputs": [
    {
     "name": "stdout",
     "output_type": "stream",
     "text": [
      "<class 'pandas.core.frame.DataFrame'>\n",
      "RangeIndex: 5000 entries, 0 to 4999\n",
      "Data columns (total 36 columns):\n",
      " #   Column             Non-Null Count  Dtype  \n",
      "---  ------             --------------  -----  \n",
      " 0   VLF                5000 non-null   float64\n",
      " 1   VLF_PCT            5000 non-null   float64\n",
      " 2   LF                 5000 non-null   float64\n",
      " 3   LF_PCT             5000 non-null   float64\n",
      " 4   LF_NU              5000 non-null   float64\n",
      " 5   HF                 5000 non-null   float64\n",
      " 6   HF_PCT             5000 non-null   float64\n",
      " 7   HF_NU              5000 non-null   float64\n",
      " 8   TP                 5000 non-null   float64\n",
      " 9   LF_HF              5000 non-null   float64\n",
      " 10  HF_LF              5000 non-null   float64\n",
      " 11  SD1                5000 non-null   float64\n",
      " 12  SD2                5000 non-null   float64\n",
      " 13  sampen             5000 non-null   float64\n",
      " 14  higuci             5000 non-null   float64\n",
      " 15  datasetId          5000 non-null   int64  \n",
      " 16  condition          5000 non-null   int64  \n",
      " 17  MEAN_RR            5000 non-null   float64\n",
      " 18  MEDIAN_RR          5000 non-null   float64\n",
      " 19  SDRR               5000 non-null   float64\n",
      " 20  RMSSD              5000 non-null   float64\n",
      " 21  SDSD               5000 non-null   float64\n",
      " 22  SDRR_RMSSD         5000 non-null   float64\n",
      " 23  HR                 5000 non-null   float64\n",
      " 24  pNN25              5000 non-null   float64\n",
      " 25  pNN50              5000 non-null   float64\n",
      " 26  KURT               5000 non-null   float64\n",
      " 27  SKEW               5000 non-null   float64\n",
      " 28  MEAN_REL_RR        5000 non-null   float64\n",
      " 29  MEDIAN_REL_RR      5000 non-null   float64\n",
      " 30  SDRR_REL_RR        5000 non-null   float64\n",
      " 31  RMSSD_REL_RR       5000 non-null   float64\n",
      " 32  SDSD_REL_RR        5000 non-null   float64\n",
      " 33  SDRR_RMSSD_REL_RR  5000 non-null   float64\n",
      " 34  KURT_REL_RR        5000 non-null   float64\n",
      " 35  SKEW_REL_RR        5000 non-null   float64\n",
      "dtypes: float64(34), int64(2)\n",
      "memory usage: 1.4 MB\n",
      "None\n"
     ]
    }
   ],
   "source": [
    "new_dfd=dfd.drop(\"uuid\", axis=\"columns\")\n",
    "\n",
    "new_dfd=new_dfd.replace(\"interruption\",0)\n",
    "new_dfd=new_dfd.replace(\"no stress\",1)\n",
    "new_dfd=new_dfd.replace(\"time pressure\",2)\n",
    "# print(new_dfd[\"condition\"])\n",
    "print(new_dfd.info())\n"
   ]
  },
  {
   "cell_type": "code",
   "execution_count": 9,
   "metadata": {},
   "outputs": [
    {
     "name": "stdout",
     "output_type": "stream",
     "text": [
      "VLF                 -0.318167\n",
      "VLF_PCT             -0.255635\n",
      "LF                  -0.108677\n",
      "LF_PCT               0.193269\n",
      "LF_NU               -0.731351\n",
      "HF                   0.650439\n",
      "HF_PCT               0.665585\n",
      "HF_NU                0.731351\n",
      "TP                  -0.317456\n",
      "LF_HF               -0.414726\n",
      "HF_LF                0.709137\n",
      "SD1                 -0.295949\n",
      "SD2                 -0.209897\n",
      "sampen              -0.304726\n",
      "higuci               0.429574\n",
      "datasetId                 NaN\n",
      "condition           -0.091487\n",
      "MEAN_RR             -0.943725\n",
      "MEDIAN_RR           -0.927397\n",
      "SDRR                -0.210253\n",
      "RMSSD               -0.295959\n",
      "SDSD                -0.295949\n",
      "SDRR_RMSSD          -0.088706\n",
      "HR                   1.000000\n",
      "pNN25               -0.274146\n",
      "pNN50               -0.126235\n",
      "KURT                 0.297863\n",
      "SKEW                 0.303769\n",
      "MEAN_REL_RR          0.002380\n",
      "MEDIAN_REL_RR        0.074035\n",
      "SDRR_REL_RR          0.234775\n",
      "RMSSD_REL_RR         0.505095\n",
      "SDSD_REL_RR          0.505095\n",
      "SDRR_RMSSD_REL_RR   -0.677232\n",
      "KURT_REL_RR          0.297863\n",
      "SKEW_REL_RR          0.303769\n",
      "Name: HR, dtype: float64\n"
     ]
    }
   ],
   "source": [
    "xx=new_dfd.corr()\n",
    "print(xx[\"HR\"])"
   ]
  },
  {
   "cell_type": "code",
   "execution_count": 10,
   "metadata": {},
   "outputs": [],
   "source": [
    "x=new_dfd[\"HR\"]\n",
    "y1=new_dfd[\"MEAN_RR\"]\n",
    "y2=new_dfd[\"MEDIAN_RR\"]"
   ]
  },
  {
   "cell_type": "code",
   "execution_count": 11,
   "metadata": {},
   "outputs": [],
   "source": [
    "rfr_dfd=dfd.drop([\"uuid\", \"datasetId\"], axis=1)"
   ]
  },
  {
   "cell_type": "markdown",
   "metadata": {},
   "source": [
    "USING RANDOM FOREST REGRESSOR TO TRAIN A MODEL\n"
   ]
  },
  {
   "cell_type": "code",
   "execution_count": 12,
   "metadata": {},
   "outputs": [
    {
     "name": "stdout",
     "output_type": "stream",
     "text": [
      "Mean Squared Error: 0.023615767627578974\n",
      "R-squared: 0.9997867703730121\n"
     ]
    }
   ],
   "source": [
    "X = rfr_dfd.drop('HR', axis=1)\n",
    "y = rfr_dfd['HR']\n",
    "# Identifying categorial features\n",
    "numerical_features = X.select_dtypes(include=['float64']).columns\n",
    "categorical_features = X.select_dtypes(include=['object']).columns\n",
    "\n",
    "#Using to transform different types of features\n",
    "preprocessor = ColumnTransformer(\n",
    "    transformers=[\n",
    "        ('num', StandardScaler(), numerical_features),\n",
    "        ('cat', OneHotEncoder(), categorical_features)\n",
    "    ])\n",
    "\n",
    "# Creating a Random Forest Regressor model\n",
    "model = make_pipeline(preprocessor, RandomForestRegressor(n_estimators=200, random_state=42))\n",
    "\n",
    "# Train the model on the entire dataset to later test on test data provided\n",
    "model.fit(X, y)\n",
    "\n",
    "y_pred = model.predict(X)\n",
    "\n",
    "mse = mean_squared_error(y, y_pred)\n",
    "r2 = r2_score(y, y_pred)\n",
    "\n",
    "print(f'Mean Squared Error: {mse}') #printing mse\n",
    "print(f'R-squared: {r2}')"
   ]
  },
  {
   "cell_type": "code",
   "execution_count": 13,
   "metadata": {},
   "outputs": [
    {
     "name": "stdout",
     "output_type": "stream",
     "text": [
      "<class 'pandas.core.frame.DataFrame'>\n",
      "RangeIndex: 10 entries, 0 to 9\n",
      "Data columns (total 36 columns):\n",
      " #   Column             Non-Null Count  Dtype  \n",
      "---  ------             --------------  -----  \n",
      " 0   uuid               10 non-null     object \n",
      " 1   VLF                10 non-null     float64\n",
      " 2   VLF_PCT            10 non-null     float64\n",
      " 3   LF                 10 non-null     float64\n",
      " 4   LF_PCT             10 non-null     float64\n",
      " 5   LF_NU              10 non-null     float64\n",
      " 6   HF                 10 non-null     float64\n",
      " 7   HF_PCT             10 non-null     float64\n",
      " 8   HF_NU              10 non-null     float64\n",
      " 9   TP                 10 non-null     float64\n",
      " 10  LF_HF              10 non-null     float64\n",
      " 11  HF_LF              10 non-null     float64\n",
      " 12  SD1                10 non-null     float64\n",
      " 13  SD2                10 non-null     float64\n",
      " 14  sampen             10 non-null     float64\n",
      " 15  higuci             10 non-null     float64\n",
      " 16  datasetId          10 non-null     int64  \n",
      " 17  condition          10 non-null     object \n",
      " 18  MEAN_RR            10 non-null     float64\n",
      " 19  MEDIAN_RR          10 non-null     float64\n",
      " 20  SDRR               10 non-null     float64\n",
      " 21  RMSSD              10 non-null     float64\n",
      " 22  SDSD               10 non-null     float64\n",
      " 23  SDRR_RMSSD         10 non-null     float64\n",
      " 24  pNN25              10 non-null     float64\n",
      " 25  pNN50              10 non-null     float64\n",
      " 26  KURT               10 non-null     float64\n",
      " 27  SKEW               10 non-null     float64\n",
      " 28  MEAN_REL_RR        10 non-null     float64\n",
      " 29  MEDIAN_REL_RR      10 non-null     float64\n",
      " 30  SDRR_REL_RR        10 non-null     float64\n",
      " 31  RMSSD_REL_RR       10 non-null     float64\n",
      " 32  SDSD_REL_RR        10 non-null     float64\n",
      " 33  SDRR_RMSSD_REL_RR  10 non-null     float64\n",
      " 34  KURT_REL_RR        10 non-null     float64\n",
      " 35  SKEW_REL_RR        10 non-null     float64\n",
      "dtypes: float64(33), int64(1), object(2)\n",
      "memory usage: 2.9+ KB\n",
      "None\n",
      "<class 'pandas.core.frame.DataFrame'>\n",
      "RangeIndex: 10 entries, 0 to 9\n",
      "Data columns (total 2 columns):\n",
      " #   Column  Non-Null Count  Dtype  \n",
      "---  ------  --------------  -----  \n",
      " 0   uuid    10 non-null     object \n",
      " 1   HR      10 non-null     float64\n",
      "dtypes: float64(1), object(1)\n",
      "memory usage: 292.0+ bytes\n",
      "None\n"
     ]
    }
   ],
   "source": [
    "testdd=pd.read_csv(\"sample_test_data.csv\")\n",
    "resultdd=pd.read_csv(\"sample_output_generated.csv\")\n",
    "print(testdd.info())\n",
    "print(resultdd.info())"
   ]
  },
  {
   "cell_type": "code",
   "execution_count": 14,
   "metadata": {},
   "outputs": [],
   "source": [
    "uuidcol=testdd[\"uuid\"]\n",
    "new_data = testdd.drop(['uuid', 'datasetId'], axis=1)\n",
    "\n",
    "# Make predictions using the trained model\n",
    "new_predictions = model.predict(new_data)\n",
    "\n",
    "result_df = pd.DataFrame({'uuid': uuidcol, 'HR': new_predictions})\n",
    "result_df.to_csv('results.csv', index=False)\n"
   ]
  },
  {
   "cell_type": "code",
   "execution_count": 15,
   "metadata": {},
   "outputs": [
    {
     "name": "stdout",
     "output_type": "stream",
     "text": [
      "MSE on test data : 0.02614451605667013\n"
     ]
    }
   ],
   "source": [
    "# run this to check mse for the test data replase \"sample_output_generated.csv\" with name of the file to compare with\n",
    "rdd=pd.read_csv(\"results.csv\")\n",
    "res=pd.read_csv(\"sample_output_generated.csv\")\n",
    "mse2=mean_squared_error(rdd['predicted_HR'],res['HR'])\n",
    "print(f\"MSE on test data : {mse2}\")"
   ]
  }
 ],
 "metadata": {
  "kernelspec": {
   "display_name": "Python 3",
   "language": "python",
   "name": "python3"
  },
  "language_info": {
   "codemirror_mode": {
    "name": "ipython",
    "version": 3
   },
   "file_extension": ".py",
   "mimetype": "text/x-python",
   "name": "python",
   "nbconvert_exporter": "python",
   "pygments_lexer": "ipython3",
   "version": "3.11.7"
  }
 },
 "nbformat": 4,
 "nbformat_minor": 2
}
